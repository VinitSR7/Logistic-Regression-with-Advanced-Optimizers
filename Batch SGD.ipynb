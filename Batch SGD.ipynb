{
 "cells": [
  {
   "cell_type": "code",
   "execution_count": 1,
   "metadata": {},
   "outputs": [],
   "source": [
    "import numpy as np\n",
    "import pandas as pd\n",
    "from sklearn import datasets"
   ]
  },
  {
   "cell_type": "code",
   "execution_count": 2,
   "metadata": {},
   "outputs": [],
   "source": [
    "data = datasets.load_breast_cancer()"
   ]
  },
  {
   "cell_type": "code",
   "execution_count": 4,
   "metadata": {},
   "outputs": [],
   "source": [
    "X = data['data']\n",
    "Y = data['target']"
   ]
  },
  {
   "cell_type": "code",
   "execution_count": 172,
   "metadata": {},
   "outputs": [],
   "source": [
    "from sklearn.model_selection import train_test_split\n",
    "X_train, X_test, Y_train, Y_test = train_test_split(X, Y, stratify = Y, shuffle = True)"
   ]
  },
  {
   "cell_type": "code",
   "execution_count": 173,
   "metadata": {},
   "outputs": [
    {
     "data": {
      "text/plain": [
       "((426, 30), (143, 30), (426,), (143,))"
      ]
     },
     "execution_count": 173,
     "metadata": {},
     "output_type": "execute_result"
    }
   ],
   "source": [
    "X_train.shape, X_test.shape, Y_train.shape, Y_test.shape"
   ]
  },
  {
   "cell_type": "code",
   "execution_count": 174,
   "metadata": {},
   "outputs": [],
   "source": [
    "import math\n",
    "def sigmoid(X):\n",
    "    return 1/(1+math.exp(-X))\n",
    "def d_sigmoid(X):\n",
    "    return sigmoid(X)*(1-sigmoid(X))"
   ]
  },
  {
   "cell_type": "code",
   "execution_count": 175,
   "metadata": {},
   "outputs": [],
   "source": [
    "def log_loss(y, y_):\n",
    "    return -1*(y*math.log(sigmoid(y_)) + (1-y)*math.log(1-sigmoid(y_)))"
   ]
  },
  {
   "cell_type": "code",
   "execution_count": 178,
   "metadata": {},
   "outputs": [],
   "source": [
    "from sklearn.preprocessing import StandardScaler\n",
    "scaler = StandardScaler()\n",
    "X_train = scaler.fit_transform(X_train)\n",
    "X_test=scaler.transform(X_test)"
   ]
  },
  {
   "cell_type": "code",
   "execution_count": 179,
   "metadata": {},
   "outputs": [],
   "source": [
    "def train(X , Y, lr = 0.1, epochs = 1000, invscale = False):\n",
    "    \n",
    "    M = X.shape[0]\n",
    "    N = X.shape[1]\n",
    "    w = np.zeros(N).reshape(N,1)\n",
    "    #b = np.random.uniform(-1, 1, size = 1)\n",
    "    for epoch in range(1, epochs+1):\n",
    "        for i in range(M):\n",
    "            y_ = np.dot(w.T, X[i].reshape(N, 1)) \n",
    "            y = Y[i]\n",
    "            # dL/dw = -(y_i - sigmoid(x_i)) * x_i\n",
    "            w_grad = -(1.0/M)*(Y[i] - sigmoid(y_)) * (X[i].reshape(N, 1)) \n",
    "            w = w - lr * w_grad\n",
    "        if epoch%100 == 0:\n",
    "            print(\"Loss : {}\".format(log_loss(y, y_)))\n",
    "        if(invscale and i>1 and i%100==0):\n",
    "            lr = lr / lr_power\n",
    "    return w"
   ]
  },
  {
   "cell_type": "code",
   "execution_count": 180,
   "metadata": {},
   "outputs": [
    {
     "name": "stdout",
     "output_type": "stream",
     "text": [
      "Loss : 0.014477996389920604\n",
      "Loss : 0.006916592792372365\n",
      "Loss : 0.0044482727849046895\n",
      "Loss : 0.003237364059310866\n",
      "Loss : 0.0025275446360646468\n",
      "Loss : 0.00206574030067758\n",
      "Loss : 0.001743393700836961\n",
      "Loss : 0.001506524277462816\n",
      "Loss : 0.0013254708264515225\n",
      "Loss : 0.0011826991491512982\n"
     ]
    }
   ],
   "source": [
    "w = train(X_train, Y_train, invscale=True)"
   ]
  },
  {
   "cell_type": "code",
   "execution_count": 181,
   "metadata": {},
   "outputs": [],
   "source": [
    "def predict(X):\n",
    "    y_pred = []\n",
    "    for i in range(len(X)):\n",
    "        y_pred.append(np.round(sigmoid(np.dot(w.T, X[i].reshape(X.shape[1], 1)))))\n",
    "    return y_pred"
   ]
  },
  {
   "cell_type": "code",
   "execution_count": 182,
   "metadata": {},
   "outputs": [],
   "source": [
    "y_pred = predict(X_test)"
   ]
  },
  {
   "cell_type": "code",
   "execution_count": 183,
   "metadata": {},
   "outputs": [
    {
     "name": "stdout",
     "output_type": "stream",
     "text": [
      "accuracy : 0.993006993006993\n"
     ]
    }
   ],
   "source": [
    "from sklearn.metrics import accuracy_score, f1_score, auc, roc_auc_score, roc_curve\n",
    "print(\"accuracy : {}\".format(accuracy_score(Y_test, y_pred)))"
   ]
  },
  {
   "cell_type": "markdown",
   "metadata": {},
   "source": [
    "# Logistic Regression Using Sklearn"
   ]
  },
  {
   "cell_type": "code",
   "execution_count": 199,
   "metadata": {},
   "outputs": [],
   "source": [
    "from sklearn.linear_model import LogisticRegression\n",
    "clf = LogisticRegression()\n",
    "clf.fit(X_train, Y_train)\n",
    "y_pred_ = clf.predict(X_test)"
   ]
  },
  {
   "cell_type": "code",
   "execution_count": 200,
   "metadata": {},
   "outputs": [
    {
     "name": "stdout",
     "output_type": "stream",
     "text": [
      "accuracy : 0.9790209790209791\n"
     ]
    }
   ],
   "source": [
    "print(\"accuracy : {}\".format(accuracy_score(Y_test, y_pred_)))"
   ]
  }
 ],
 "metadata": {
  "kernelspec": {
   "display_name": "Python 3",
   "language": "python",
   "name": "python3"
  },
  "language_info": {
   "codemirror_mode": {
    "name": "ipython",
    "version": 3
   },
   "file_extension": ".py",
   "mimetype": "text/x-python",
   "name": "python",
   "nbconvert_exporter": "python",
   "pygments_lexer": "ipython3",
   "version": "3.7.4"
  }
 },
 "nbformat": 4,
 "nbformat_minor": 2
}
